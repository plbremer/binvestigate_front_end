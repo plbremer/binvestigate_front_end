{
 "cells": [
  {
   "cell_type": "markdown",
   "id": "67fb0fc3",
   "metadata": {},
   "source": [
    "# API"
   ]
  },
  {
   "cell_type": "markdown",
   "id": "ea5eb10b",
   "metadata": {},
   "source": [
    "## Step 1: Construct Metadata Table"
   ]
  },
  {
   "cell_type": "markdown",
   "id": "651eff14",
   "metadata": {},
   "source": []
  },
  {
   "cell_type": "markdown",
   "id": "f221111f",
   "metadata": {},
   "source": []
  },
  {
   "cell_type": "markdown",
   "id": "5a1a68cc",
   "metadata": {},
   "source": [
    "## Step 2: "
   ]
  },
  {
   "cell_type": "markdown",
   "id": "7b780b4d",
   "metadata": {},
   "source": []
  },
  {
   "cell_type": "markdown",
   "id": "8e0aab40",
   "metadata": {},
   "source": [
    "## "
   ]
  }
 ],
 "metadata": {
  "kernelspec": {
   "display_name": "Python 3",
   "language": "python",
   "name": "python3"
  },
  "language_info": {
   "codemirror_mode": {
    "name": "ipython",
    "version": 3
   },
   "file_extension": ".py",
   "mimetype": "text/x-python",
   "name": "python",
   "nbconvert_exporter": "python",
   "pygments_lexer": "ipython3",
   "version": "3.8.8"
  }
 },
 "nbformat": 4,
 "nbformat_minor": 5
}
