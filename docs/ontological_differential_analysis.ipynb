{
 "cells": [
  {
   "cell_type": "markdown",
   "id": "d4caf19c",
   "metadata": {},
   "source": [
    "# Ontological Differential Analysis"
   ]
  },
  {
   "cell_type": "markdown",
   "id": "0b2a6bf8",
   "metadata": {},
   "source": [
    "## Summary"
   ]
  },
  {
   "cell_type": "markdown",
   "id": "3bed637b",
   "metadata": {},
   "source": [
    "Doing OGDA programatically is a two-step process. In the first step, sets of metadata triplets are created. In the second step, those sets are used as input to the actual calculator."
   ]
  },
  {
   "cell_type": "markdown",
   "id": "303d550e",
   "metadata": {},
   "source": [
    "## Step 1 - Triplets"
   ]
  },
  {
   "cell_type": "markdown",
   "id": "847e2367",
   "metadata": {},
   "source": [
    "Making a post request to "
   ]
  },
  {
   "cell_type": "markdown",
   "id": "0ac727a7",
   "metadata": {},
   "source": [
    "```http://bindiscover.metabolomics.us:4999/hgdametadataresource/```"
   ]
  },
  {
   "cell_type": "markdown",
   "id": "cb3a44be",
   "metadata": {},
   "source": [
    "With the format "
   ]
  },
  {
   "cell_type": "code",
   "execution_count": 1,
   "id": "b6eec00a",
   "metadata": {
    "execution": {
     "iopub.execute_input": "2023-05-30T20:35:40.294108Z",
     "iopub.status.busy": "2023-05-30T20:35:40.286612Z",
     "iopub.status.idle": "2023-05-30T20:35:40.315849Z",
     "shell.execute_reply": "2023-05-30T20:35:40.316860Z"
    }
   },
   "outputs": [
    {
     "data": {
      "text/plain": [
       "{'from_species': '10114',\n",
       " 'from_organ': 'A03.620',\n",
       " 'from_disease': 'No Disease',\n",
       " 'to_species': '314146',\n",
       " 'to_organ': 'A03.556.875.500',\n",
       " 'to_disease': 'No Disease'}"
      ]
     },
     "execution_count": 1,
     "metadata": {},
     "output_type": "execute_result"
    }
   ],
   "source": [
    "{\n",
    "    \"from_species\":\"10114\",\n",
    "    \"from_organ\":\"A03.620\",\n",
    "    \"from_disease\":\"No Disease\",\n",
    "    \"to_species\":\"314146\",\n",
    "    \"to_organ\":\"A03.556.875.500\",\n",
    "    \"to_disease\":\"No Disease\"\n",
    "}"
   ]
  },
  {
   "cell_type": "markdown",
   "id": "3275c5e5",
   "metadata": {},
   "source": [
    "Where values in this dictionary are nodes from the NCBI taxonomy and MeSH Hierarchies will yield a record-oriented metadata table, e.g."
   ]
  },
  {
   "cell_type": "code",
   "execution_count": 2,
   "id": "cae70887",
   "metadata": {
    "execution": {
     "iopub.execute_input": "2023-05-30T20:35:40.327578Z",
     "iopub.status.busy": "2023-05-30T20:35:40.326276Z",
     "iopub.status.idle": "2023-05-30T20:35:40.332033Z",
     "shell.execute_reply": "2023-05-30T20:35:40.333036Z"
    }
   },
   "outputs": [
    {
     "data": {
      "text/plain": [
       "'[{\"from_or_to\":\"from\",\"triplet_id\":\"rattus rattus - Liver - No Disease\",\"sample_count\":221},{\"from_or_to\":\"to\",\"triplet_id\":\"mus musculus - Esophagus - No Disease\",\"sample_count\":24}]'"
      ]
     },
     "execution_count": 2,
     "metadata": {},
     "output_type": "execute_result"
    }
   ],
   "source": [
    "\"[{\\\"from_or_to\\\":\\\"from\\\",\\\"triplet_id\\\":\\\"rattus rattus - Liver - No Disease\\\",\\\"sample_count\\\":221},{\\\"from_or_to\\\":\\\"to\\\",\\\"triplet_id\\\":\\\"mus musculus - Esophagus - No Disease\\\",\\\"sample_count\\\":24}]\""
   ]
  },
  {
   "cell_type": "markdown",
   "id": "beb1cf89",
   "metadata": {},
   "source": [
    "## Step 2 - "
   ]
  },
  {
   "cell_type": "markdown",
   "id": "79b87016",
   "metadata": {},
   "source": [
    "Making a post request to "
   ]
  },
  {
   "cell_type": "markdown",
   "id": "3d0c0e3b",
   "metadata": {},
   "source": [
    "```http://bindiscover.metabolomics.us:4999/hgdaresource/```"
   ]
  },
  {
   "cell_type": "markdown",
   "id": "2b5ffc72",
   "metadata": {},
   "source": [
    "with the format"
   ]
  },
  {
   "cell_type": "code",
   "execution_count": 3,
   "id": "23266364",
   "metadata": {
    "execution": {
     "iopub.execute_input": "2023-05-30T20:35:40.344834Z",
     "iopub.status.busy": "2023-05-30T20:35:40.343518Z",
     "iopub.status.idle": "2023-05-30T20:35:40.351145Z",
     "shell.execute_reply": "2023-05-30T20:35:40.349832Z"
    }
   },
   "outputs": [
    {
     "data": {
      "text/plain": [
       "{'metadata_datatable': [{'from_or_to': 'from',\n",
       "   'triplet_id': 'citrus reticulata - Plant Leaves - No Disease',\n",
       "   'sample_count': 43},\n",
       "  {'from_or_to': 'to',\n",
       "   'triplet_id': 'malus x domestica - Fruit - No Disease',\n",
       "   'sample_count': 17}],\n",
       " 'bin_type': 'known'}"
      ]
     },
     "execution_count": 3,
     "metadata": {},
     "output_type": "execute_result"
    }
   ],
   "source": [
    "{\n",
    "    \"metadata_datatable\":[{\"from_or_to\": \"from\", \"triplet_id\": \"citrus reticulata - Plant Leaves - No Disease\", \"sample_count\": 43}, {\"from_or_to\": \"to\", \"triplet_id\": \"malus x domestica - Fruit - No Disease\", \"sample_count\": 17}],\n",
    "    \"bin_type\":\"known\"\n",
    "}"
   ]
  },
  {
   "cell_type": "markdown",
   "id": "3623d251",
   "metadata": {},
   "source": [
    "will yield the core information for the differential analysis, eg"
   ]
  },
  {
   "cell_type": "code",
   "execution_count": 4,
   "id": "042bccb2",
   "metadata": {
    "execution": {
     "iopub.execute_input": "2023-05-30T20:35:40.361275Z",
     "iopub.status.busy": "2023-05-30T20:35:40.359986Z",
     "iopub.status.idle": "2023-05-30T20:35:40.366924Z",
     "shell.execute_reply": "2023-05-30T20:35:40.365666Z"
    }
   },
   "outputs": [
    {
     "data": {
      "text/plain": [
       "'[{\"compound_id\": 14717, \"identifier\": \"OOWQBDFWEXAXPB-UHFFFAOYSA-N\", \"english_name\": \"hexadecylglycerol\", \"bin_type_dict\": \"known\", \"significance_welch\": 0.6109507199, \"fold_change_average\": 0.007302779200000001}, {\"compound_id\": 2214, \"identifier\": \"LOLKAJARZKDJTD-UHFFFAOYSA-N\", \"english_name\": \"ethylsuccinate\", \"bin_type_dict\": \"known\", \"significance_welch\": 0.1504452139, \"fold_change_average\": -0.031181263}...'"
      ]
     },
     "execution_count": 4,
     "metadata": {},
     "output_type": "execute_result"
    }
   ],
   "source": [
    "\"[{\\\"compound_id\\\": 14717, \\\"identifier\\\": \\\"OOWQBDFWEXAXPB-UHFFFAOYSA-N\\\", \\\"english_name\\\": \\\"hexadecylglycerol\\\", \\\"bin_type_dict\\\": \\\"known\\\", \\\"significance_welch\\\": 0.6109507199, \\\"fold_change_average\\\": 0.007302779200000001}, {\\\"compound_id\\\": 2214, \\\"identifier\\\": \\\"LOLKAJARZKDJTD-UHFFFAOYSA-N\\\", \\\"english_name\\\": \\\"ethylsuccinate\\\", \\\"bin_type_dict\\\": \\\"known\\\", \\\"significance_welch\\\": 0.1504452139, \\\"fold_change_average\\\": -0.031181263}...\"   "
   ]
  }
 ],
 "metadata": {
  "kernelspec": {
   "display_name": "Python 3 (ipykernel)",
   "language": "python",
   "name": "python3"
  },
  "language_info": {
   "codemirror_mode": {
    "name": "ipython",
    "version": 3
   },
   "file_extension": ".py",
   "mimetype": "text/x-python",
   "name": "python",
   "nbconvert_exporter": "python",
   "pygments_lexer": "ipython3",
   "version": "3.8.12"
  }
 },
 "nbformat": 4,
 "nbformat_minor": 5
}
